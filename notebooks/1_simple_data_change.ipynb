{
 "cells": [
  {
   "cell_type": "markdown",
   "metadata": {},
   "source": [
    "Let's change data a bit to work further in more convenient way"
   ]
  },
  {
   "cell_type": "code",
   "execution_count": 1,
   "metadata": {},
   "outputs": [],
   "source": [
    "import os\n",
    "\n",
    "import pandas as pd\n",
    "from datetime import datetime"
   ]
  },
  {
   "cell_type": "code",
   "execution_count": 2,
   "metadata": {},
   "outputs": [],
   "source": [
    "#BASE_PATH = 'data'\n",
    "BASE_PATH = os.path.join('..', '..', 'ml_home_task', 'data')"
   ]
  },
  {
   "cell_type": "code",
   "execution_count": 3,
   "metadata": {},
   "outputs": [],
   "source": [
    "#keep data in csv for faster reading further and all needed data is on the 1st excel sheet\n",
    "df = pd.read_excel(os.path.join(BASE_PATH, 'hotel_bookings.xlsx'))\n",
    "\n",
    "#create the full arival date from the given info\n",
    "df['arrival_date'] = (\n",
    "    df['arrival_date_year'].astype(str)\n",
    "    + '-'\n",
    "    + df['arrival_date_month'].apply(lambda x: str(datetime.strptime(x, '%B').month))\n",
    "    + '-'\n",
    "    + df['arrival_date_day_of_month'].astype(str)\n",
    ")\n",
    "df['arrival_date'] = pd.to_datetime(df['arrival_date'])\n",
    "df['year_month'] = pd.to_datetime(pd.to_datetime(df['arrival_date']).apply(lambda x: str(x.date())[:-2] + '1'))\n",
    "\n",
    "(\n",
    "    df\n",
    "    .sort_values('arrival_date', ascending=True) #usefull anyway since we forecast data in the future\n",
    "    .to_csv(os.path.join(BASE_PATH, 'hotel_bookings.csv'), index=False)\n",
    ")"
   ]
  },
  {
   "cell_type": "code",
   "execution_count": null,
   "metadata": {},
   "outputs": [],
   "source": []
  }
 ],
 "metadata": {
  "kernelspec": {
   "display_name": "Python 3",
   "language": "python",
   "name": "python3"
  },
  "language_info": {
   "codemirror_mode": {
    "name": "ipython",
    "version": 3
   },
   "file_extension": ".py",
   "mimetype": "text/x-python",
   "name": "python",
   "nbconvert_exporter": "python",
   "pygments_lexer": "ipython3",
   "version": "3.7.6"
  }
 },
 "nbformat": 4,
 "nbformat_minor": 4
}
